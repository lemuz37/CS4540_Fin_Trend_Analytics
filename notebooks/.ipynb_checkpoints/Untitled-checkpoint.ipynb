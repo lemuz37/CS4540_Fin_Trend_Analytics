{
 "cells": [
  {
   "cell_type": "code",
   "execution_count": 1,
   "id": "52d51418-a32f-4bed-ac9e-403dad818678",
   "metadata": {},
   "outputs": [],
   "source": [
    "import yfinance as yf\n",
    "import pandas as pd"
   ]
  },
  {
   "cell_type": "code",
   "execution_count": 2,
   "id": "9eb598af-3f89-43ee-92b5-8b6244a817f1",
   "metadata": {},
   "outputs": [
    {
     "name": "stderr",
     "output_type": "stream",
     "text": [
      "C:\\git\\CS4540_Fin_Trend_Analytics\\venv\\Lib\\site-packages\\yfinance\\utils.py:775: FutureWarning: The 'unit' keyword in TimedeltaIndex construction is deprecated and will be removed in a future version. Use pd.to_timedelta instead.\n",
      "  df.index += _pd.TimedeltaIndex(dst_error_hours, 'h')\n"
     ]
    }
   ],
   "source": [
    "aapl = yf.Ticker(\"AAPL\")\n",
    "aapl_df = aapl.history(period=\"1mo\")  # Fetch data for the last month"
   ]
  },
  {
   "cell_type": "code",
   "execution_count": 3,
   "id": "3abcc255-1c14-46e6-8237-4fdb6d5f79a2",
   "metadata": {},
   "outputs": [
    {
     "data": {
      "text/html": [
       "<div>\n",
       "<style scoped>\n",
       "    .dataframe tbody tr th:only-of-type {\n",
       "        vertical-align: middle;\n",
       "    }\n",
       "\n",
       "    .dataframe tbody tr th {\n",
       "        vertical-align: top;\n",
       "    }\n",
       "\n",
       "    .dataframe thead th {\n",
       "        text-align: right;\n",
       "    }\n",
       "</style>\n",
       "<table border=\"1\" class=\"dataframe\">\n",
       "  <thead>\n",
       "    <tr style=\"text-align: right;\">\n",
       "      <th></th>\n",
       "      <th>Open</th>\n",
       "      <th>High</th>\n",
       "      <th>Low</th>\n",
       "      <th>Close</th>\n",
       "      <th>Volume</th>\n",
       "      <th>Dividends</th>\n",
       "      <th>Stock Splits</th>\n",
       "    </tr>\n",
       "    <tr>\n",
       "      <th>Date</th>\n",
       "      <th></th>\n",
       "      <th></th>\n",
       "      <th></th>\n",
       "      <th></th>\n",
       "      <th></th>\n",
       "      <th></th>\n",
       "      <th></th>\n",
       "    </tr>\n",
       "  </thead>\n",
       "  <tbody>\n",
       "    <tr>\n",
       "      <th>2024-01-26 00:00:00-05:00</th>\n",
       "      <td>194.270004</td>\n",
       "      <td>194.759995</td>\n",
       "      <td>191.940002</td>\n",
       "      <td>192.419998</td>\n",
       "      <td>44553400</td>\n",
       "      <td>0.0</td>\n",
       "      <td>0.0</td>\n",
       "    </tr>\n",
       "    <tr>\n",
       "      <th>2024-01-29 00:00:00-05:00</th>\n",
       "      <td>192.009995</td>\n",
       "      <td>192.199997</td>\n",
       "      <td>189.580002</td>\n",
       "      <td>191.729996</td>\n",
       "      <td>47145600</td>\n",
       "      <td>0.0</td>\n",
       "      <td>0.0</td>\n",
       "    </tr>\n",
       "    <tr>\n",
       "      <th>2024-01-30 00:00:00-05:00</th>\n",
       "      <td>190.940002</td>\n",
       "      <td>191.800003</td>\n",
       "      <td>187.470001</td>\n",
       "      <td>188.039993</td>\n",
       "      <td>55859400</td>\n",
       "      <td>0.0</td>\n",
       "      <td>0.0</td>\n",
       "    </tr>\n",
       "    <tr>\n",
       "      <th>2024-01-31 00:00:00-05:00</th>\n",
       "      <td>187.039993</td>\n",
       "      <td>187.100006</td>\n",
       "      <td>184.350006</td>\n",
       "      <td>184.399994</td>\n",
       "      <td>55467800</td>\n",
       "      <td>0.0</td>\n",
       "      <td>0.0</td>\n",
       "    </tr>\n",
       "    <tr>\n",
       "      <th>2024-02-01 00:00:00-05:00</th>\n",
       "      <td>183.985001</td>\n",
       "      <td>186.800003</td>\n",
       "      <td>183.820007</td>\n",
       "      <td>186.779999</td>\n",
       "      <td>38726238</td>\n",
       "      <td>0.0</td>\n",
       "      <td>0.0</td>\n",
       "    </tr>\n",
       "  </tbody>\n",
       "</table>\n",
       "</div>"
      ],
      "text/plain": [
       "                                 Open        High         Low       Close  \\\n",
       "Date                                                                        \n",
       "2024-01-26 00:00:00-05:00  194.270004  194.759995  191.940002  192.419998   \n",
       "2024-01-29 00:00:00-05:00  192.009995  192.199997  189.580002  191.729996   \n",
       "2024-01-30 00:00:00-05:00  190.940002  191.800003  187.470001  188.039993   \n",
       "2024-01-31 00:00:00-05:00  187.039993  187.100006  184.350006  184.399994   \n",
       "2024-02-01 00:00:00-05:00  183.985001  186.800003  183.820007  186.779999   \n",
       "\n",
       "                             Volume  Dividends  Stock Splits  \n",
       "Date                                                          \n",
       "2024-01-26 00:00:00-05:00  44553400        0.0           0.0  \n",
       "2024-01-29 00:00:00-05:00  47145600        0.0           0.0  \n",
       "2024-01-30 00:00:00-05:00  55859400        0.0           0.0  \n",
       "2024-01-31 00:00:00-05:00  55467800        0.0           0.0  \n",
       "2024-02-01 00:00:00-05:00  38726238        0.0           0.0  "
      ]
     },
     "execution_count": 3,
     "metadata": {},
     "output_type": "execute_result"
    }
   ],
   "source": [
    "aapl_df.tail()"
   ]
  },
  {
   "cell_type": "code",
   "execution_count": null,
   "id": "35698555-8485-49eb-8b59-25a5901be86e",
   "metadata": {},
   "outputs": [],
   "source": []
  }
 ],
 "metadata": {
  "kernelspec": {
   "display_name": "Python 3 (ipykernel)",
   "language": "python",
   "name": "python3"
  },
  "language_info": {
   "codemirror_mode": {
    "name": "ipython",
    "version": 3
   },
   "file_extension": ".py",
   "mimetype": "text/x-python",
   "name": "python",
   "nbconvert_exporter": "python",
   "pygments_lexer": "ipython3",
   "version": "3.11.1"
  }
 },
 "nbformat": 4,
 "nbformat_minor": 5
}
